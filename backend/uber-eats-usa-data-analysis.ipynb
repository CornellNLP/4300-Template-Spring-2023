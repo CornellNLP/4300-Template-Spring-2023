{
 "cells": [
  {
   "cell_type": "code",
   "execution_count": 1,
   "id": "f1a684af",
   "metadata": {
    "_cell_guid": "b1076dfc-b9ad-4769-8c92-a6c4dae69d19",
    "_uuid": "8f2839f25d086af736a60e9eeb907d3b93b6e0e5",
    "execution": {
     "iopub.execute_input": "2023-01-25T16:13:06.476735Z",
     "iopub.status.busy": "2023-01-25T16:13:06.476131Z",
     "iopub.status.idle": "2023-01-25T16:13:06.495702Z",
     "shell.execute_reply": "2023-01-25T16:13:06.494547Z"
    },
    "papermill": {
     "duration": 0.032234,
     "end_time": "2023-01-25T16:13:06.498548",
     "exception": false,
     "start_time": "2023-01-25T16:13:06.466314",
     "status": "completed"
    },
    "tags": []
   },
   "outputs": [
    {
     "name": "stdout",
     "output_type": "stream",
     "text": [
      "/kaggle/input/uber-eats-usa-restaurants-menus/restaurants.csv\n",
      "/kaggle/input/uber-eats-usa-restaurants-menus/restaurant-menus.csv\n"
     ]
    }
   ],
   "source": [
    "# This Python 3 environment comes with many helpful analytics libraries installed\n",
    "# It is defined by the kaggle/python Docker image: https://github.com/kaggle/docker-python\n",
    "# For example, here's several helpful packages to load\n",
    "\n",
    "import numpy as np # linear algebra\n",
    "import pandas as pd # data processing, CSV file I/O (e.g. pd.read_csv)\n",
    "\n",
    "# Input data files are available in the read-only \"../input/\" directory\n",
    "# For example, running this (by clicking run or pressing Shift+Enter) will list all files under the input directory\n",
    "\n",
    "import os\n",
    "for dirname, _, filenames in os.walk('/kaggle/input'):\n",
    "    for filename in filenames:\n",
    "        print(os.path.join(dirname, filename))\n",
    "\n",
    "# You can write up to 20GB to the current directory (/kaggle/working/) that gets preserved as output when you create a version using \"Save & Run All\" \n",
    "# You can also write temporary files to /kaggle/temp/, but they won't be saved outside of the current session"
   ]
  },
  {
   "cell_type": "code",
   "execution_count": 2,
   "id": "360fd1ed",
   "metadata": {
    "execution": {
     "iopub.execute_input": "2023-01-25T16:13:06.514712Z",
     "iopub.status.busy": "2023-01-25T16:13:06.514385Z",
     "iopub.status.idle": "2023-01-25T16:13:07.563562Z",
     "shell.execute_reply": "2023-01-25T16:13:07.562509Z"
    },
    "papermill": {
     "duration": 1.060188,
     "end_time": "2023-01-25T16:13:07.566380",
     "exception": false,
     "start_time": "2023-01-25T16:13:06.506192",
     "status": "completed"
    },
    "tags": []
   },
   "outputs": [],
   "source": [
    "import numpy as np\n",
    "import pandas as pd\n",
    "import matplotlib.pyplot as plt\n",
    "import matplotlib.cm as cm\n",
    "import seaborn as sns\n",
    "import random\n",
    "from wordcloud import WordCloud"
   ]
  },
  {
   "cell_type": "code",
   "execution_count": 3,
   "id": "c1f91f5b",
   "metadata": {
    "execution": {
     "iopub.execute_input": "2023-01-25T16:13:07.582660Z",
     "iopub.status.busy": "2023-01-25T16:13:07.582300Z",
     "iopub.status.idle": "2023-01-25T16:13:07.785163Z",
     "shell.execute_reply": "2023-01-25T16:13:07.784168Z"
    },
    "papermill": {
     "duration": 0.21387,
     "end_time": "2023-01-25T16:13:07.787698",
     "exception": false,
     "start_time": "2023-01-25T16:13:07.573828",
     "status": "completed"
    },
    "tags": []
   },
   "outputs": [],
   "source": [
    "data = pd.read_csv(\"/kaggle/input/uber-eats-usa-restaurants-menus/restaurants.csv\")"
   ]
  },
  {
   "cell_type": "code",
   "execution_count": 4,
   "id": "c4b47519",
   "metadata": {
    "execution": {
     "iopub.execute_input": "2023-01-25T16:13:07.804061Z",
     "iopub.status.busy": "2023-01-25T16:13:07.802062Z",
     "iopub.status.idle": "2023-01-25T16:13:20.552688Z",
     "shell.execute_reply": "2023-01-25T16:13:20.551663Z"
    },
    "papermill": {
     "duration": 12.760728,
     "end_time": "2023-01-25T16:13:20.555397",
     "exception": false,
     "start_time": "2023-01-25T16:13:07.794669",
     "status": "completed"
    },
    "tags": []
   },
   "outputs": [],
   "source": [
    "df=pd.read_csv(\"/kaggle/input/uber-eats-usa-restaurants-menus/restaurant-menus.csv\")"
   ]
  },
  {
   "cell_type": "code",
   "execution_count": 5,
   "id": "22e0707c",
   "metadata": {
    "execution": {
     "iopub.execute_input": "2023-01-25T16:13:20.570787Z",
     "iopub.status.busy": "2023-01-25T16:13:20.570437Z",
     "iopub.status.idle": "2023-01-25T16:13:20.598572Z",
     "shell.execute_reply": "2023-01-25T16:13:20.597412Z"
    },
    "papermill": {
     "duration": 0.038482,
     "end_time": "2023-01-25T16:13:20.601149",
     "exception": false,
     "start_time": "2023-01-25T16:13:20.562667",
     "status": "completed"
    },
    "tags": []
   },
   "outputs": [
    {
     "data": {
      "text/html": [
       "<div>\n",
       "<style scoped>\n",
       "    .dataframe tbody tr th:only-of-type {\n",
       "        vertical-align: middle;\n",
       "    }\n",
       "\n",
       "    .dataframe tbody tr th {\n",
       "        vertical-align: top;\n",
       "    }\n",
       "\n",
       "    .dataframe thead th {\n",
       "        text-align: right;\n",
       "    }\n",
       "</style>\n",
       "<table border=\"1\" class=\"dataframe\">\n",
       "  <thead>\n",
       "    <tr style=\"text-align: right;\">\n",
       "      <th></th>\n",
       "      <th>id</th>\n",
       "      <th>position</th>\n",
       "      <th>name</th>\n",
       "      <th>score</th>\n",
       "      <th>ratings</th>\n",
       "      <th>category</th>\n",
       "      <th>price_range</th>\n",
       "      <th>full_address</th>\n",
       "      <th>zip_code</th>\n",
       "      <th>lat</th>\n",
       "      <th>lng</th>\n",
       "    </tr>\n",
       "  </thead>\n",
       "  <tbody>\n",
       "    <tr>\n",
       "      <th>0</th>\n",
       "      <td>1</td>\n",
       "      <td>19</td>\n",
       "      <td>PJ Fresh (224 Daniel Payne Drive)</td>\n",
       "      <td>NaN</td>\n",
       "      <td>NaN</td>\n",
       "      <td>Burgers, American, Sandwiches</td>\n",
       "      <td>$</td>\n",
       "      <td>224 Daniel Payne Drive, Birmingham, AL, 35207</td>\n",
       "      <td>35207</td>\n",
       "      <td>33.562365</td>\n",
       "      <td>-86.830703</td>\n",
       "    </tr>\n",
       "    <tr>\n",
       "      <th>1</th>\n",
       "      <td>2</td>\n",
       "      <td>9</td>\n",
       "      <td>J' ti`'z Smoothie-N-Coffee Bar</td>\n",
       "      <td>NaN</td>\n",
       "      <td>NaN</td>\n",
       "      <td>Coffee and Tea, Breakfast and Brunch, Bubble Tea</td>\n",
       "      <td>NaN</td>\n",
       "      <td>1521 Pinson Valley Parkway, Birmingham, AL, 35217</td>\n",
       "      <td>35217</td>\n",
       "      <td>33.583640</td>\n",
       "      <td>-86.773330</td>\n",
       "    </tr>\n",
       "    <tr>\n",
       "      <th>2</th>\n",
       "      <td>3</td>\n",
       "      <td>6</td>\n",
       "      <td>Philly Fresh Cheesesteaks (541-B Graymont Ave)</td>\n",
       "      <td>NaN</td>\n",
       "      <td>NaN</td>\n",
       "      <td>American, Cheesesteak, Sandwiches, Alcohol</td>\n",
       "      <td>$</td>\n",
       "      <td>541-B Graymont Ave, Birmingham, AL, 35204</td>\n",
       "      <td>35204</td>\n",
       "      <td>33.509800</td>\n",
       "      <td>-86.854640</td>\n",
       "    </tr>\n",
       "    <tr>\n",
       "      <th>3</th>\n",
       "      <td>4</td>\n",
       "      <td>17</td>\n",
       "      <td>Papa Murphy's (1580 Montgomery Highway)</td>\n",
       "      <td>NaN</td>\n",
       "      <td>NaN</td>\n",
       "      <td>Pizza</td>\n",
       "      <td>$</td>\n",
       "      <td>1580 Montgomery Highway, Hoover, AL, 35226</td>\n",
       "      <td>35226</td>\n",
       "      <td>33.404439</td>\n",
       "      <td>-86.806614</td>\n",
       "    </tr>\n",
       "    <tr>\n",
       "      <th>4</th>\n",
       "      <td>5</td>\n",
       "      <td>162</td>\n",
       "      <td>Nelson Brothers Cafe (17th St N)</td>\n",
       "      <td>4.7</td>\n",
       "      <td>22.0</td>\n",
       "      <td>Breakfast and Brunch, Burgers, Sandwiches</td>\n",
       "      <td>NaN</td>\n",
       "      <td>314 17th St N, Birmingham, AL, 35203</td>\n",
       "      <td>35203</td>\n",
       "      <td>33.514730</td>\n",
       "      <td>-86.811700</td>\n",
       "    </tr>\n",
       "    <tr>\n",
       "      <th>5</th>\n",
       "      <td>6</td>\n",
       "      <td>75</td>\n",
       "      <td>Ocean Restaurant</td>\n",
       "      <td>NaN</td>\n",
       "      <td>NaN</td>\n",
       "      <td>Seafood, Sushi, Steak</td>\n",
       "      <td>$$</td>\n",
       "      <td>1218 20th Street South, Birmingham, AL, 35205</td>\n",
       "      <td>35205</td>\n",
       "      <td>33.498630</td>\n",
       "      <td>-86.795740</td>\n",
       "    </tr>\n",
       "    <tr>\n",
       "      <th>6</th>\n",
       "      <td>7</td>\n",
       "      <td>27</td>\n",
       "      <td>Jinsei Sushi</td>\n",
       "      <td>4.7</td>\n",
       "      <td>63.0</td>\n",
       "      <td>Sushi, Asian, Japanese</td>\n",
       "      <td>$</td>\n",
       "      <td>1830 29th Ave S, Birmingham, AL, 35209</td>\n",
       "      <td>35209</td>\n",
       "      <td>33.480440</td>\n",
       "      <td>-86.790440</td>\n",
       "    </tr>\n",
       "    <tr>\n",
       "      <th>7</th>\n",
       "      <td>8</td>\n",
       "      <td>26</td>\n",
       "      <td>Little India</td>\n",
       "      <td>NaN</td>\n",
       "      <td>NaN</td>\n",
       "      <td>Vegetarian, Asian, Asian Fusion, Chinese, Indi...</td>\n",
       "      <td>$</td>\n",
       "      <td>2236 Highland Ave, Birmingham, AL, 35205</td>\n",
       "      <td>35205</td>\n",
       "      <td>33.502259</td>\n",
       "      <td>-86.790298</td>\n",
       "    </tr>\n",
       "    <tr>\n",
       "      <th>8</th>\n",
       "      <td>9</td>\n",
       "      <td>136</td>\n",
       "      <td>Captain D's (1284 Decatur Hwy)</td>\n",
       "      <td>NaN</td>\n",
       "      <td>NaN</td>\n",
       "      <td>Seafood, Fast Food, Fish and Chips, American</td>\n",
       "      <td>$</td>\n",
       "      <td>1284 Decatur Hwy, Gardendale, AL, 35071</td>\n",
       "      <td>35071</td>\n",
       "      <td>33.657100</td>\n",
       "      <td>-86.811970</td>\n",
       "    </tr>\n",
       "    <tr>\n",
       "      <th>9</th>\n",
       "      <td>10</td>\n",
       "      <td>51</td>\n",
       "      <td>Cajun Bistro Express</td>\n",
       "      <td>NaN</td>\n",
       "      <td>NaN</td>\n",
       "      <td>Desserts, Vegetarian, Coffee and Tea</td>\n",
       "      <td>$</td>\n",
       "      <td>1515 Pearson Ave SW, Birmingham, AL, 35211</td>\n",
       "      <td>35211</td>\n",
       "      <td>33.486840</td>\n",
       "      <td>-86.856300</td>\n",
       "    </tr>\n",
       "  </tbody>\n",
       "</table>\n",
       "</div>"
      ],
      "text/plain": [
       "   id  position                                            name  score  \\\n",
       "0   1        19               PJ Fresh (224 Daniel Payne Drive)    NaN   \n",
       "1   2         9                  J' ti`'z Smoothie-N-Coffee Bar    NaN   \n",
       "2   3         6  Philly Fresh Cheesesteaks (541-B Graymont Ave)    NaN   \n",
       "3   4        17         Papa Murphy's (1580 Montgomery Highway)    NaN   \n",
       "4   5       162                Nelson Brothers Cafe (17th St N)    4.7   \n",
       "5   6        75                                Ocean Restaurant    NaN   \n",
       "6   7        27                                    Jinsei Sushi    4.7   \n",
       "7   8        26                                    Little India    NaN   \n",
       "8   9       136                  Captain D's (1284 Decatur Hwy)    NaN   \n",
       "9  10        51                            Cajun Bistro Express    NaN   \n",
       "\n",
       "   ratings                                           category price_range  \\\n",
       "0      NaN                      Burgers, American, Sandwiches           $   \n",
       "1      NaN   Coffee and Tea, Breakfast and Brunch, Bubble Tea         NaN   \n",
       "2      NaN         American, Cheesesteak, Sandwiches, Alcohol           $   \n",
       "3      NaN                                              Pizza           $   \n",
       "4     22.0          Breakfast and Brunch, Burgers, Sandwiches         NaN   \n",
       "5      NaN                              Seafood, Sushi, Steak          $$   \n",
       "6     63.0                             Sushi, Asian, Japanese           $   \n",
       "7      NaN  Vegetarian, Asian, Asian Fusion, Chinese, Indi...           $   \n",
       "8      NaN       Seafood, Fast Food, Fish and Chips, American           $   \n",
       "9      NaN               Desserts, Vegetarian, Coffee and Tea           $   \n",
       "\n",
       "                                        full_address zip_code        lat  \\\n",
       "0      224 Daniel Payne Drive, Birmingham, AL, 35207    35207  33.562365   \n",
       "1  1521 Pinson Valley Parkway, Birmingham, AL, 35217    35217  33.583640   \n",
       "2          541-B Graymont Ave, Birmingham, AL, 35204    35204  33.509800   \n",
       "3         1580 Montgomery Highway, Hoover, AL, 35226    35226  33.404439   \n",
       "4               314 17th St N, Birmingham, AL, 35203    35203  33.514730   \n",
       "5      1218 20th Street South, Birmingham, AL, 35205    35205  33.498630   \n",
       "6             1830 29th Ave S, Birmingham, AL, 35209    35209  33.480440   \n",
       "7           2236 Highland Ave, Birmingham, AL, 35205    35205  33.502259   \n",
       "8            1284 Decatur Hwy, Gardendale, AL, 35071    35071  33.657100   \n",
       "9         1515 Pearson Ave SW, Birmingham, AL, 35211    35211  33.486840   \n",
       "\n",
       "         lng  \n",
       "0 -86.830703  \n",
       "1 -86.773330  \n",
       "2 -86.854640  \n",
       "3 -86.806614  \n",
       "4 -86.811700  \n",
       "5 -86.795740  \n",
       "6 -86.790440  \n",
       "7 -86.790298  \n",
       "8 -86.811970  \n",
       "9 -86.856300  "
      ]
     },
     "execution_count": 5,
     "metadata": {},
     "output_type": "execute_result"
    }
   ],
   "source": [
    "data.head(10)"
   ]
  },
  {
   "cell_type": "code",
   "execution_count": 6,
   "id": "664e6efc",
   "metadata": {
    "execution": {
     "iopub.execute_input": "2023-01-25T16:13:20.619188Z",
     "iopub.status.busy": "2023-01-25T16:13:20.618182Z",
     "iopub.status.idle": "2023-01-25T16:13:20.636220Z",
     "shell.execute_reply": "2023-01-25T16:13:20.635088Z"
    },
    "papermill": {
     "duration": 0.02936,
     "end_time": "2023-01-25T16:13:20.638774",
     "exception": false,
     "start_time": "2023-01-25T16:13:20.609414",
     "status": "completed"
    },
    "tags": []
   },
   "outputs": [
    {
     "data": {
      "text/html": [
       "<div>\n",
       "<style scoped>\n",
       "    .dataframe tbody tr th:only-of-type {\n",
       "        vertical-align: middle;\n",
       "    }\n",
       "\n",
       "    .dataframe tbody tr th {\n",
       "        vertical-align: top;\n",
       "    }\n",
       "\n",
       "    .dataframe thead th {\n",
       "        text-align: right;\n",
       "    }\n",
       "</style>\n",
       "<table border=\"1\" class=\"dataframe\">\n",
       "  <thead>\n",
       "    <tr style=\"text-align: right;\">\n",
       "      <th></th>\n",
       "      <th>id</th>\n",
       "      <th>position</th>\n",
       "      <th>name</th>\n",
       "      <th>score</th>\n",
       "      <th>ratings</th>\n",
       "      <th>category</th>\n",
       "      <th>price_range</th>\n",
       "      <th>full_address</th>\n",
       "      <th>zip_code</th>\n",
       "      <th>lat</th>\n",
       "      <th>lng</th>\n",
       "    </tr>\n",
       "  </thead>\n",
       "  <tbody>\n",
       "    <tr>\n",
       "      <th>40222</th>\n",
       "      <td>40223</td>\n",
       "      <td>54</td>\n",
       "      <td>Mangia la pasta! (5610 N Interstate Hwy 35)</td>\n",
       "      <td>4.8</td>\n",
       "      <td>500.0</td>\n",
       "      <td>Pasta, Comfort Food, Italian, Group Friendly</td>\n",
       "      <td>$</td>\n",
       "      <td>5610 N I35, Austin, TX, 78751</td>\n",
       "      <td>78751</td>\n",
       "      <td>30.316248</td>\n",
       "      <td>-97.708441</td>\n",
       "    </tr>\n",
       "    <tr>\n",
       "      <th>40223</th>\n",
       "      <td>40224</td>\n",
       "      <td>53</td>\n",
       "      <td>Wholly Cow Burgers  (S Lamar)</td>\n",
       "      <td>4.6</td>\n",
       "      <td>245.0</td>\n",
       "      <td>American, Burgers, Breakfast and Brunch, Aller...</td>\n",
       "      <td>$</td>\n",
       "      <td>3010 S Lamar Blvd, Austin, TX, 78704</td>\n",
       "      <td>78704</td>\n",
       "      <td>30.242816</td>\n",
       "      <td>-97.783821</td>\n",
       "    </tr>\n",
       "    <tr>\n",
       "      <th>40224</th>\n",
       "      <td>40225</td>\n",
       "      <td>52</td>\n",
       "      <td>EurAsia Ramen 3</td>\n",
       "      <td>4.7</td>\n",
       "      <td>293.0</td>\n",
       "      <td>Sushi, Asian, Japanese, Exclusive to Eats, Gro...</td>\n",
       "      <td>$</td>\n",
       "      <td>5222 Burnet Road, Austin, TX, 78756</td>\n",
       "      <td>78756</td>\n",
       "      <td>30.324290</td>\n",
       "      <td>-97.740200</td>\n",
       "    </tr>\n",
       "    <tr>\n",
       "      <th>40225</th>\n",
       "      <td>40226</td>\n",
       "      <td>51</td>\n",
       "      <td>Austin's Habibi (5th St)</td>\n",
       "      <td>4.7</td>\n",
       "      <td>208.0</td>\n",
       "      <td>Mediterranean, Gluten Free Friendly, Allergy F...</td>\n",
       "      <td>$$</td>\n",
       "      <td>817 W 5th St, Austin, TX, 78703</td>\n",
       "      <td>78703</td>\n",
       "      <td>30.269580</td>\n",
       "      <td>-97.753110</td>\n",
       "    </tr>\n",
       "    <tr>\n",
       "      <th>40226</th>\n",
       "      <td>40227</td>\n",
       "      <td>50</td>\n",
       "      <td>Beijing Wok</td>\n",
       "      <td>4.4</td>\n",
       "      <td>254.0</td>\n",
       "      <td>Chinese, Asian, Asian Fusion, Family Friendly,...</td>\n",
       "      <td>$</td>\n",
       "      <td>8106 Brodie Ln, Austin, TX, 78749</td>\n",
       "      <td>78749</td>\n",
       "      <td>30.202210</td>\n",
       "      <td>-97.838689</td>\n",
       "    </tr>\n",
       "  </tbody>\n",
       "</table>\n",
       "</div>"
      ],
      "text/plain": [
       "          id  position                                         name  score  \\\n",
       "40222  40223        54  Mangia la pasta! (5610 N Interstate Hwy 35)    4.8   \n",
       "40223  40224        53                Wholly Cow Burgers  (S Lamar)    4.6   \n",
       "40224  40225        52                              EurAsia Ramen 3    4.7   \n",
       "40225  40226        51                     Austin's Habibi (5th St)    4.7   \n",
       "40226  40227        50                                  Beijing Wok    4.4   \n",
       "\n",
       "       ratings                                           category price_range  \\\n",
       "40222    500.0       Pasta, Comfort Food, Italian, Group Friendly           $   \n",
       "40223    245.0  American, Burgers, Breakfast and Brunch, Aller...           $   \n",
       "40224    293.0  Sushi, Asian, Japanese, Exclusive to Eats, Gro...           $   \n",
       "40225    208.0  Mediterranean, Gluten Free Friendly, Allergy F...          $$   \n",
       "40226    254.0  Chinese, Asian, Asian Fusion, Family Friendly,...           $   \n",
       "\n",
       "                               full_address zip_code        lat        lng  \n",
       "40222         5610 N I35, Austin, TX, 78751    78751  30.316248 -97.708441  \n",
       "40223  3010 S Lamar Blvd, Austin, TX, 78704    78704  30.242816 -97.783821  \n",
       "40224   5222 Burnet Road, Austin, TX, 78756    78756  30.324290 -97.740200  \n",
       "40225       817 W 5th St, Austin, TX, 78703    78703  30.269580 -97.753110  \n",
       "40226     8106 Brodie Ln, Austin, TX, 78749    78749  30.202210 -97.838689  "
      ]
     },
     "execution_count": 6,
     "metadata": {},
     "output_type": "execute_result"
    }
   ],
   "source": [
    "data.tail()"
   ]
  },
  {
   "cell_type": "code",
   "execution_count": 7,
   "id": "aabc7f15",
   "metadata": {
    "execution": {
     "iopub.execute_input": "2023-01-25T16:13:20.656060Z",
     "iopub.status.busy": "2023-01-25T16:13:20.655756Z",
     "iopub.status.idle": "2023-01-25T16:13:20.689284Z",
     "shell.execute_reply": "2023-01-25T16:13:20.687953Z"
    },
    "papermill": {
     "duration": 0.045676,
     "end_time": "2023-01-25T16:13:20.692691",
     "exception": false,
     "start_time": "2023-01-25T16:13:20.647015",
     "status": "completed"
    },
    "tags": []
   },
   "outputs": [
    {
     "name": "stdout",
     "output_type": "stream",
     "text": [
      "<class 'pandas.core.frame.DataFrame'>\n",
      "RangeIndex: 40227 entries, 0 to 40226\n",
      "Data columns (total 11 columns):\n",
      " #   Column        Non-Null Count  Dtype  \n",
      "---  ------        --------------  -----  \n",
      " 0   id            40227 non-null  int64  \n",
      " 1   position      40227 non-null  int64  \n",
      " 2   name          40227 non-null  object \n",
      " 3   score         22254 non-null  float64\n",
      " 4   ratings       22254 non-null  float64\n",
      " 5   category      40204 non-null  object \n",
      " 6   price_range   33581 non-null  object \n",
      " 7   full_address  39949 non-null  object \n",
      " 8   zip_code      39940 non-null  object \n",
      " 9   lat           40227 non-null  float64\n",
      " 10  lng           40227 non-null  float64\n",
      "dtypes: float64(4), int64(2), object(5)\n",
      "memory usage: 3.4+ MB\n"
     ]
    }
   ],
   "source": [
    "data.info()"
   ]
  },
  {
   "cell_type": "code",
   "execution_count": 8,
   "id": "5dc25fc3",
   "metadata": {
    "execution": {
     "iopub.execute_input": "2023-01-25T16:13:20.711608Z",
     "iopub.status.busy": "2023-01-25T16:13:20.710876Z",
     "iopub.status.idle": "2023-01-25T16:13:20.723928Z",
     "shell.execute_reply": "2023-01-25T16:13:20.722840Z"
    },
    "papermill": {
     "duration": 0.024409,
     "end_time": "2023-01-25T16:13:20.726182",
     "exception": false,
     "start_time": "2023-01-25T16:13:20.701773",
     "status": "completed"
    },
    "tags": []
   },
   "outputs": [
    {
     "data": {
      "text/html": [
       "<div>\n",
       "<style scoped>\n",
       "    .dataframe tbody tr th:only-of-type {\n",
       "        vertical-align: middle;\n",
       "    }\n",
       "\n",
       "    .dataframe tbody tr th {\n",
       "        vertical-align: top;\n",
       "    }\n",
       "\n",
       "    .dataframe thead th {\n",
       "        text-align: right;\n",
       "    }\n",
       "</style>\n",
       "<table border=\"1\" class=\"dataframe\">\n",
       "  <thead>\n",
       "    <tr style=\"text-align: right;\">\n",
       "      <th></th>\n",
       "      <th>restaurant_id</th>\n",
       "      <th>category</th>\n",
       "      <th>name</th>\n",
       "      <th>description</th>\n",
       "      <th>price</th>\n",
       "    </tr>\n",
       "  </thead>\n",
       "  <tbody>\n",
       "    <tr>\n",
       "      <th>0</th>\n",
       "      <td>1</td>\n",
       "      <td>Extra Large Pizza</td>\n",
       "      <td>Extra Large Meat Lovers</td>\n",
       "      <td>Whole pie.</td>\n",
       "      <td>15.99 USD</td>\n",
       "    </tr>\n",
       "    <tr>\n",
       "      <th>1</th>\n",
       "      <td>1</td>\n",
       "      <td>Extra Large Pizza</td>\n",
       "      <td>Extra Large Supreme</td>\n",
       "      <td>Whole pie.</td>\n",
       "      <td>15.99 USD</td>\n",
       "    </tr>\n",
       "    <tr>\n",
       "      <th>2</th>\n",
       "      <td>1</td>\n",
       "      <td>Extra Large Pizza</td>\n",
       "      <td>Extra Large Pepperoni</td>\n",
       "      <td>Whole pie.</td>\n",
       "      <td>14.99 USD</td>\n",
       "    </tr>\n",
       "    <tr>\n",
       "      <th>3</th>\n",
       "      <td>1</td>\n",
       "      <td>Extra Large Pizza</td>\n",
       "      <td>Extra Large BBQ Chicken &amp;amp; Bacon</td>\n",
       "      <td>Whole Pie</td>\n",
       "      <td>15.99 USD</td>\n",
       "    </tr>\n",
       "    <tr>\n",
       "      <th>4</th>\n",
       "      <td>1</td>\n",
       "      <td>Extra Large Pizza</td>\n",
       "      <td>Extra Large 5 Cheese</td>\n",
       "      <td>Whole pie.</td>\n",
       "      <td>14.99 USD</td>\n",
       "    </tr>\n",
       "    <tr>\n",
       "      <th>5</th>\n",
       "      <td>1</td>\n",
       "      <td>Extra Large Pizza</td>\n",
       "      <td>Extra Large Pepperoni Slice</td>\n",
       "      <td>Slice.</td>\n",
       "      <td>3.99 USD</td>\n",
       "    </tr>\n",
       "    <tr>\n",
       "      <th>6</th>\n",
       "      <td>1</td>\n",
       "      <td>Extra Large Pizza</td>\n",
       "      <td>Extra Large BBQ Chicken &amp;amp; Bacon Slice</td>\n",
       "      <td>NaN</td>\n",
       "      <td>3.99 USD</td>\n",
       "    </tr>\n",
       "    <tr>\n",
       "      <th>7</th>\n",
       "      <td>1</td>\n",
       "      <td>Extra Large Pizza</td>\n",
       "      <td>Extra Large Meat Lovers Slice</td>\n",
       "      <td>Slice.</td>\n",
       "      <td>3.99 USD</td>\n",
       "    </tr>\n",
       "    <tr>\n",
       "      <th>8</th>\n",
       "      <td>1</td>\n",
       "      <td>Extra Large Pizza</td>\n",
       "      <td>Extra Large Supreme Slice</td>\n",
       "      <td>Slice.</td>\n",
       "      <td>3.99 USD</td>\n",
       "    </tr>\n",
       "    <tr>\n",
       "      <th>9</th>\n",
       "      <td>1</td>\n",
       "      <td>Extra Large Pizza</td>\n",
       "      <td>Extra Large 5 Cheese Slice</td>\n",
       "      <td>Slice.</td>\n",
       "      <td>3.99 USD</td>\n",
       "    </tr>\n",
       "  </tbody>\n",
       "</table>\n",
       "</div>"
      ],
      "text/plain": [
       "   restaurant_id           category  \\\n",
       "0              1  Extra Large Pizza   \n",
       "1              1  Extra Large Pizza   \n",
       "2              1  Extra Large Pizza   \n",
       "3              1  Extra Large Pizza   \n",
       "4              1  Extra Large Pizza   \n",
       "5              1  Extra Large Pizza   \n",
       "6              1  Extra Large Pizza   \n",
       "7              1  Extra Large Pizza   \n",
       "8              1  Extra Large Pizza   \n",
       "9              1  Extra Large Pizza   \n",
       "\n",
       "                                        name description      price  \n",
       "0                    Extra Large Meat Lovers  Whole pie.  15.99 USD  \n",
       "1                        Extra Large Supreme  Whole pie.  15.99 USD  \n",
       "2                      Extra Large Pepperoni  Whole pie.  14.99 USD  \n",
       "3        Extra Large BBQ Chicken &amp; Bacon   Whole Pie  15.99 USD  \n",
       "4                       Extra Large 5 Cheese  Whole pie.  14.99 USD  \n",
       "5                Extra Large Pepperoni Slice      Slice.   3.99 USD  \n",
       "6  Extra Large BBQ Chicken &amp; Bacon Slice         NaN   3.99 USD  \n",
       "7              Extra Large Meat Lovers Slice      Slice.   3.99 USD  \n",
       "8                  Extra Large Supreme Slice      Slice.   3.99 USD  \n",
       "9                 Extra Large 5 Cheese Slice      Slice.   3.99 USD  "
      ]
     },
     "execution_count": 8,
     "metadata": {},
     "output_type": "execute_result"
    }
   ],
   "source": [
    "df.head(10)"
   ]
  },
  {
   "cell_type": "code",
   "execution_count": 9,
   "id": "e90acddc",
   "metadata": {
    "execution": {
     "iopub.execute_input": "2023-01-25T16:13:20.743323Z",
     "iopub.status.busy": "2023-01-25T16:13:20.743013Z",
     "iopub.status.idle": "2023-01-25T16:13:20.748986Z",
     "shell.execute_reply": "2023-01-25T16:13:20.748020Z"
    },
    "papermill": {
     "duration": 0.017113,
     "end_time": "2023-01-25T16:13:20.751124",
     "exception": false,
     "start_time": "2023-01-25T16:13:20.734011",
     "status": "completed"
    },
    "tags": []
   },
   "outputs": [
    {
     "data": {
      "text/plain": [
       "(40227, 11)"
      ]
     },
     "execution_count": 9,
     "metadata": {},
     "output_type": "execute_result"
    }
   ],
   "source": [
    "data.shape"
   ]
  },
  {
   "cell_type": "code",
   "execution_count": 10,
   "id": "0860bd51",
   "metadata": {
    "execution": {
     "iopub.execute_input": "2023-01-25T16:13:20.770015Z",
     "iopub.status.busy": "2023-01-25T16:13:20.768126Z",
     "iopub.status.idle": "2023-01-25T16:13:20.813255Z",
     "shell.execute_reply": "2023-01-25T16:13:20.811919Z"
    },
    "papermill": {
     "duration": 0.057507,
     "end_time": "2023-01-25T16:13:20.816436",
     "exception": false,
     "start_time": "2023-01-25T16:13:20.758929",
     "status": "completed"
    },
    "tags": []
   },
   "outputs": [
    {
     "data": {
      "text/html": [
       "<div>\n",
       "<style scoped>\n",
       "    .dataframe tbody tr th:only-of-type {\n",
       "        vertical-align: middle;\n",
       "    }\n",
       "\n",
       "    .dataframe tbody tr th {\n",
       "        vertical-align: top;\n",
       "    }\n",
       "\n",
       "    .dataframe thead th {\n",
       "        text-align: right;\n",
       "    }\n",
       "</style>\n",
       "<table border=\"1\" class=\"dataframe\">\n",
       "  <thead>\n",
       "    <tr style=\"text-align: right;\">\n",
       "      <th></th>\n",
       "      <th>id</th>\n",
       "      <th>position</th>\n",
       "      <th>score</th>\n",
       "      <th>ratings</th>\n",
       "      <th>lat</th>\n",
       "      <th>lng</th>\n",
       "    </tr>\n",
       "  </thead>\n",
       "  <tbody>\n",
       "    <tr>\n",
       "      <th>count</th>\n",
       "      <td>40227.000000</td>\n",
       "      <td>40227.000000</td>\n",
       "      <td>22254.000000</td>\n",
       "      <td>22254.000000</td>\n",
       "      <td>40227.000000</td>\n",
       "      <td>40227.000000</td>\n",
       "    </tr>\n",
       "    <tr>\n",
       "      <th>mean</th>\n",
       "      <td>20114.000000</td>\n",
       "      <td>79.529843</td>\n",
       "      <td>4.560996</td>\n",
       "      <td>74.870989</td>\n",
       "      <td>39.927033</td>\n",
       "      <td>-96.549713</td>\n",
       "    </tr>\n",
       "    <tr>\n",
       "      <th>std</th>\n",
       "      <td>11612.678976</td>\n",
       "      <td>77.611449</td>\n",
       "      <td>0.298041</td>\n",
       "      <td>72.381529</td>\n",
       "      <td>5.765774</td>\n",
       "      <td>17.961361</td>\n",
       "    </tr>\n",
       "    <tr>\n",
       "      <th>min</th>\n",
       "      <td>1.000000</td>\n",
       "      <td>1.000000</td>\n",
       "      <td>1.300000</td>\n",
       "      <td>10.000000</td>\n",
       "      <td>0.000000</td>\n",
       "      <td>-123.841240</td>\n",
       "    </tr>\n",
       "    <tr>\n",
       "      <th>25%</th>\n",
       "      <td>10057.500000</td>\n",
       "      <td>14.000000</td>\n",
       "      <td>4.400000</td>\n",
       "      <td>25.000000</td>\n",
       "      <td>37.082007</td>\n",
       "      <td>-113.587301</td>\n",
       "    </tr>\n",
       "    <tr>\n",
       "      <th>50%</th>\n",
       "      <td>20114.000000</td>\n",
       "      <td>51.000000</td>\n",
       "      <td>4.600000</td>\n",
       "      <td>51.000000</td>\n",
       "      <td>39.000990</td>\n",
       "      <td>-96.587547</td>\n",
       "    </tr>\n",
       "    <tr>\n",
       "      <th>75%</th>\n",
       "      <td>30170.500000</td>\n",
       "      <td>129.000000</td>\n",
       "      <td>4.800000</td>\n",
       "      <td>100.000000</td>\n",
       "      <td>45.493640</td>\n",
       "      <td>-77.528825</td>\n",
       "    </tr>\n",
       "    <tr>\n",
       "      <th>max</th>\n",
       "      <td>40227.000000</td>\n",
       "      <td>300.000000</td>\n",
       "      <td>5.000000</td>\n",
       "      <td>500.000000</td>\n",
       "      <td>48.963950</td>\n",
       "      <td>0.000000</td>\n",
       "    </tr>\n",
       "  </tbody>\n",
       "</table>\n",
       "</div>"
      ],
      "text/plain": [
       "                 id      position         score       ratings           lat  \\\n",
       "count  40227.000000  40227.000000  22254.000000  22254.000000  40227.000000   \n",
       "mean   20114.000000     79.529843      4.560996     74.870989     39.927033   \n",
       "std    11612.678976     77.611449      0.298041     72.381529      5.765774   \n",
       "min        1.000000      1.000000      1.300000     10.000000      0.000000   \n",
       "25%    10057.500000     14.000000      4.400000     25.000000     37.082007   \n",
       "50%    20114.000000     51.000000      4.600000     51.000000     39.000990   \n",
       "75%    30170.500000    129.000000      4.800000    100.000000     45.493640   \n",
       "max    40227.000000    300.000000      5.000000    500.000000     48.963950   \n",
       "\n",
       "                lng  \n",
       "count  40227.000000  \n",
       "mean     -96.549713  \n",
       "std       17.961361  \n",
       "min     -123.841240  \n",
       "25%     -113.587301  \n",
       "50%      -96.587547  \n",
       "75%      -77.528825  \n",
       "max        0.000000  "
      ]
     },
     "execution_count": 10,
     "metadata": {},
     "output_type": "execute_result"
    }
   ],
   "source": [
    "data.describe()"
   ]
  },
  {
   "cell_type": "code",
   "execution_count": 11,
   "id": "e245912b",
   "metadata": {
    "execution": {
     "iopub.execute_input": "2023-01-25T16:13:20.835965Z",
     "iopub.status.busy": "2023-01-25T16:13:20.835131Z",
     "iopub.status.idle": "2023-01-25T16:13:20.850452Z",
     "shell.execute_reply": "2023-01-25T16:13:20.849222Z"
    },
    "papermill": {
     "duration": 0.027494,
     "end_time": "2023-01-25T16:13:20.852992",
     "exception": false,
     "start_time": "2023-01-25T16:13:20.825498",
     "status": "completed"
    },
    "tags": []
   },
   "outputs": [
    {
     "data": {
      "text/plain": [
       "(40227, 11)"
      ]
     },
     "execution_count": 11,
     "metadata": {},
     "output_type": "execute_result"
    }
   ],
   "source": [
    "data.drop_duplicates([\"id\"],keep='first',inplace=True)\n",
    "data.shape"
   ]
  },
  {
   "cell_type": "code",
   "execution_count": 12,
   "id": "c949a5a5",
   "metadata": {
    "execution": {
     "iopub.execute_input": "2023-01-25T16:13:20.871507Z",
     "iopub.status.busy": "2023-01-25T16:13:20.871179Z",
     "iopub.status.idle": "2023-01-25T16:13:20.889321Z",
     "shell.execute_reply": "2023-01-25T16:13:20.888308Z"
    },
    "papermill": {
     "duration": 0.029878,
     "end_time": "2023-01-25T16:13:20.891621",
     "exception": false,
     "start_time": "2023-01-25T16:13:20.861743",
     "status": "completed"
    },
    "tags": []
   },
   "outputs": [
    {
     "data": {
      "text/plain": [
       "id                  0\n",
       "position            0\n",
       "name                0\n",
       "score           17973\n",
       "ratings         17973\n",
       "category           23\n",
       "price_range      6646\n",
       "full_address      278\n",
       "zip_code          287\n",
       "lat                 0\n",
       "lng                 0\n",
       "dtype: int64"
      ]
     },
     "execution_count": 12,
     "metadata": {},
     "output_type": "execute_result"
    }
   ],
   "source": [
    "data.isnull().sum()"
   ]
  },
  {
   "cell_type": "code",
   "execution_count": 13,
   "id": "80141514",
   "metadata": {
    "execution": {
     "iopub.execute_input": "2023-01-25T16:13:20.909979Z",
     "iopub.status.busy": "2023-01-25T16:13:20.909667Z",
     "iopub.status.idle": "2023-01-25T16:13:20.920668Z",
     "shell.execute_reply": "2023-01-25T16:13:20.919601Z"
    },
    "papermill": {
     "duration": 0.022763,
     "end_time": "2023-01-25T16:13:20.922902",
     "exception": false,
     "start_time": "2023-01-25T16:13:20.900139",
     "status": "completed"
    },
    "tags": []
   },
   "outputs": [
    {
     "data": {
      "text/plain": [
       "array(['Burgers, American, Sandwiches',\n",
       "       'Coffee and Tea, Breakfast and Brunch, Bubble Tea',\n",
       "       'American, Cheesesteak, Sandwiches, Alcohol', ...,\n",
       "       'American, Burgers, Breakfast and Brunch, Allergy Friendly, Family Meals, Vegan, Vegan Friendly, Sandwiches, Desserts, Comfort Food, Soup, Cheesesteak, Everyday Essentials, Group Friendly',\n",
       "       'Sushi, Asian, Japanese, Exclusive to Eats, Group Friendly',\n",
       "       'Mediterranean, Gluten Free Friendly, Allergy Friendly, Family Meals, Turkish, Greek, Middle Eastern, Salads, Vegan Friendly, Vegetarian Friendly, Local Specialities'],\n",
       "      dtype=object)"
      ]
     },
     "execution_count": 13,
     "metadata": {},
     "output_type": "execute_result"
    }
   ],
   "source": [
    "data[\"category\"].unique()"
   ]
  },
  {
   "cell_type": "code",
   "execution_count": 14,
   "id": "ec592076",
   "metadata": {
    "execution": {
     "iopub.execute_input": "2023-01-25T16:13:20.941284Z",
     "iopub.status.busy": "2023-01-25T16:13:20.940972Z",
     "iopub.status.idle": "2023-01-25T16:13:20.951817Z",
     "shell.execute_reply": "2023-01-25T16:13:20.950742Z"
    },
    "papermill": {
     "duration": 0.023018,
     "end_time": "2023-01-25T16:13:20.954439",
     "exception": false,
     "start_time": "2023-01-25T16:13:20.931421",
     "status": "completed"
    },
    "tags": []
   },
   "outputs": [
    {
     "name": "stdout",
     "output_type": "stream",
     "text": [
      "Burgers, American, Sandwiches\n",
      "<class 'str'>\n"
     ]
    }
   ],
   "source": [
    "print(data[\"category\"].unique()[0])\n",
    "print(type(data[\"category\"].unique()[0]))"
   ]
  },
  {
   "cell_type": "code",
   "execution_count": 15,
   "id": "92827288",
   "metadata": {
    "execution": {
     "iopub.execute_input": "2023-01-25T16:13:20.973273Z",
     "iopub.status.busy": "2023-01-25T16:13:20.972959Z",
     "iopub.status.idle": "2023-01-25T16:13:20.977578Z",
     "shell.execute_reply": "2023-01-25T16:13:20.976523Z"
    },
    "papermill": {
     "duration": 0.016562,
     "end_time": "2023-01-25T16:13:20.979830",
     "exception": false,
     "start_time": "2023-01-25T16:13:20.963268",
     "status": "completed"
    },
    "tags": []
   },
   "outputs": [],
   "source": [
    "# Removing [' '] from each value\n",
    "#print(data[\"category\"].unique()[0])\n",
    "#data[\"category\"] = data[\"category\"].apply(lambda x:x[2:-2])\n",
    "#print(data[\"category\"].unique()[0])\n",
    "\n",
    "# Changing ''  to 'NA'\n",
    "#print(data[\"category\"].unique())\n",
    "#data[\"category\"] = data[\"category\"].apply(lambda x : np.where(x==\"\", \"NA\", x))\n",
    "#print(data[\"category\"].unique())"
   ]
  },
  {
   "cell_type": "code",
   "execution_count": 16,
   "id": "49e4737b",
   "metadata": {
    "execution": {
     "iopub.execute_input": "2023-01-25T16:13:20.997754Z",
     "iopub.status.busy": "2023-01-25T16:13:20.997434Z",
     "iopub.status.idle": "2023-01-25T16:13:21.019558Z",
     "shell.execute_reply": "2023-01-25T16:13:21.018658Z"
    },
    "papermill": {
     "duration": 0.033582,
     "end_time": "2023-01-25T16:13:21.021667",
     "exception": false,
     "start_time": "2023-01-25T16:13:20.988085",
     "status": "completed"
    },
    "tags": []
   },
   "outputs": [],
   "source": [
    "outlets = data[\"name\"].value_counts()"
   ]
  },
  {
   "cell_type": "code",
   "execution_count": 17,
   "id": "e061a1fb",
   "metadata": {
    "execution": {
     "iopub.execute_input": "2023-01-25T16:13:21.040259Z",
     "iopub.status.busy": "2023-01-25T16:13:21.039917Z",
     "iopub.status.idle": "2023-01-25T16:13:21.053252Z",
     "shell.execute_reply": "2023-01-25T16:13:21.052297Z"
    },
    "papermill": {
     "duration": 0.025331,
     "end_time": "2023-01-25T16:13:21.055629",
     "exception": false,
     "start_time": "2023-01-25T16:13:21.030298",
     "status": "completed"
    },
    "tags": []
   },
   "outputs": [
    {
     "data": {
      "text/plain": [
       "The Ice Cream Shop                  107\n",
       "The Ice Cream Shop                   44\n",
       "Everyday Needs by Gopuff             26\n",
       "Kung Fu Tea                          23\n",
       "Pollo Regio                          16\n",
       "                                   ... \n",
       "El Muchacho Alegre                    1\n",
       "Taqueria La Jarochita                 1\n",
       "Med Mix                               1\n",
       "MrBeast Burger (1085 Lake Drive)      1\n",
       "Beijing Wok                           1\n",
       "Name: name, Length: 38863, dtype: int64"
      ]
     },
     "execution_count": 17,
     "metadata": {},
     "output_type": "execute_result"
    }
   ],
   "source": [
    "outlets"
   ]
  },
  {
   "cell_type": "code",
   "execution_count": 18,
   "id": "dcd44588",
   "metadata": {
    "execution": {
     "iopub.execute_input": "2023-01-25T16:13:21.074530Z",
     "iopub.status.busy": "2023-01-25T16:13:21.074201Z",
     "iopub.status.idle": "2023-01-25T16:13:21.081098Z",
     "shell.execute_reply": "2023-01-25T16:13:21.080220Z"
    },
    "papermill": {
     "duration": 0.019118,
     "end_time": "2023-01-25T16:13:21.083423",
     "exception": false,
     "start_time": "2023-01-25T16:13:21.064305",
     "status": "completed"
    },
    "tags": []
   },
   "outputs": [],
   "source": [
    "chains = outlets[outlets >= 2]\n",
    "single = outlets[outlets == 1]"
   ]
  },
  {
   "cell_type": "code",
   "execution_count": 19,
   "id": "eef3b8ef",
   "metadata": {
    "execution": {
     "iopub.execute_input": "2023-01-25T16:13:21.102164Z",
     "iopub.status.busy": "2023-01-25T16:13:21.101862Z",
     "iopub.status.idle": "2023-01-25T16:13:21.111355Z",
     "shell.execute_reply": "2023-01-25T16:13:21.110322Z"
    },
    "papermill": {
     "duration": 0.02143,
     "end_time": "2023-01-25T16:13:21.113604",
     "exception": false,
     "start_time": "2023-01-25T16:13:21.092174",
     "status": "completed"
    },
    "tags": []
   },
   "outputs": [
    {
     "data": {
      "text/plain": [
       "The Ice Cream Shop              107\n",
       "The Ice Cream Shop               44\n",
       "Everyday Needs by Gopuff         26\n",
       "Kung Fu Tea                      23\n",
       "Pollo Regio                      16\n",
       "                               ... \n",
       "Pat's Barbecue                    2\n",
       "The Chinese Snob                  2\n",
       "Duck Duck Goose                   2\n",
       "Los 2 Potrillos                   2\n",
       "Eno Vino Wine Bar and Bistro      2\n",
       "Name: name, Length: 769, dtype: int64"
      ]
     },
     "execution_count": 19,
     "metadata": {},
     "output_type": "execute_result"
    }
   ],
   "source": [
    "chains"
   ]
  },
  {
   "cell_type": "code",
   "execution_count": 20,
   "id": "117fe5d9",
   "metadata": {
    "execution": {
     "iopub.execute_input": "2023-01-25T16:13:21.132781Z",
     "iopub.status.busy": "2023-01-25T16:13:21.132461Z",
     "iopub.status.idle": "2023-01-25T16:13:21.138907Z",
     "shell.execute_reply": "2023-01-25T16:13:21.137788Z"
    },
    "papermill": {
     "duration": 0.019445,
     "end_time": "2023-01-25T16:13:21.141865",
     "exception": false,
     "start_time": "2023-01-25T16:13:21.122420",
     "status": "completed"
    },
    "tags": []
   },
   "outputs": [
    {
     "name": "stdout",
     "output_type": "stream",
     "text": [
      "Total Restaurants =  40227\n",
      "Total Restaurants that are part of some chain =  2133\n",
      "Percentage of Restaurants that are part of a chain =  5.0 %\n"
     ]
    }
   ],
   "source": [
    "print(\"Total Restaurants = \", data.shape[0])\n",
    "print(\"Total Restaurants that are part of some chain = \", data.shape[0] - single.shape[0])\n",
    "print(\"Percentage of Restaurants that are part of a chain = \", np.round((data.shape[0] - single.shape[0]) / data.shape[0],2)*100, \"%\")"
   ]
  },
  {
   "cell_type": "code",
   "execution_count": 21,
   "id": "7e723fc6",
   "metadata": {
    "execution": {
     "iopub.execute_input": "2023-01-25T16:13:21.162105Z",
     "iopub.status.busy": "2023-01-25T16:13:21.161804Z",
     "iopub.status.idle": "2023-01-25T16:13:21.168947Z",
     "shell.execute_reply": "2023-01-25T16:13:21.167947Z"
    },
    "papermill": {
     "duration": 0.019532,
     "end_time": "2023-01-25T16:13:21.171381",
     "exception": false,
     "start_time": "2023-01-25T16:13:21.151849",
     "status": "completed"
    },
    "tags": []
   },
   "outputs": [
    {
     "data": {
      "text/plain": [
       "The Ice Cream Shop          107\n",
       "The Ice Cream Shop           44\n",
       "Everyday Needs by Gopuff     26\n",
       "Kung Fu Tea                  23\n",
       "Pollo Regio                  16\n",
       "Panera Bread                 12\n",
       "Freaking Good Pizza          12\n",
       "China Wok                    12\n",
       "Tudor's Biscuit World        12\n",
       "China Express                10\n",
       "Name: name, dtype: int64"
      ]
     },
     "execution_count": 21,
     "metadata": {},
     "output_type": "execute_result"
    }
   ],
   "source": [
    "chains.head(10)"
   ]
  },
  {
   "cell_type": "code",
   "execution_count": 22,
   "id": "3369e09d",
   "metadata": {
    "execution": {
     "iopub.execute_input": "2023-01-25T16:13:21.190560Z",
     "iopub.status.busy": "2023-01-25T16:13:21.190256Z",
     "iopub.status.idle": "2023-01-25T16:13:21.212232Z",
     "shell.execute_reply": "2023-01-25T16:13:21.211293Z"
    },
    "papermill": {
     "duration": 0.034143,
     "end_time": "2023-01-25T16:13:21.214425",
     "exception": false,
     "start_time": "2023-01-25T16:13:21.180282",
     "status": "completed"
    },
    "tags": []
   },
   "outputs": [],
   "source": [
    "top10_chains = data[\"name\"].value_counts()[:10].sort_values(ascending=True)"
   ]
  },
  {
   "cell_type": "code",
   "execution_count": 23,
   "id": "1e0d54b3",
   "metadata": {
    "execution": {
     "iopub.execute_input": "2023-01-25T16:13:21.233856Z",
     "iopub.status.busy": "2023-01-25T16:13:21.232914Z",
     "iopub.status.idle": "2023-01-25T16:13:21.532568Z",
     "shell.execute_reply": "2023-01-25T16:13:21.531556Z"
    },
    "papermill": {
     "duration": 0.311364,
     "end_time": "2023-01-25T16:13:21.534787",
     "exception": false,
     "start_time": "2023-01-25T16:13:21.223423",
     "status": "completed"
    },
    "tags": []
   },
   "outputs": [
    {
     "data": {
      "image/png": "[encoded data removed]",
      "text/plain": [
       "<Figure size 792x504 with 1 Axes>"
      ]
     },
     "metadata": {
      "needs_background": "light"
     },
     "output_type": "display_data"
    }
   ],
   "source": [
    "height = top10_chains.values\n",
    "bars = top10_chains.index\n",
    "y_pos = np.arange(len(bars))\n",
    "\n",
    "fig = plt.figure(figsize=[11,7], frameon=False)\n",
    "ax = fig.gca()\n",
    "ax.spines[\"top\"].set_visible(\"#424242\")\n",
    "ax.spines[\"right\"].set_visible(False)\n",
    "ax.spines[\"left\"].set_color(\"#424242\")\n",
    "ax.spines[\"bottom\"].set_color(\"#424242\")\n",
    "\n",
    "#colors = [\"green\",\"blue\",\"magenta\",\"cyan\",\"gray\",\"yellow\",\"purple\",\"violet\",\"orange\",\"red\",\"maroon\"]\n",
    "#random.shuffle(colors)\n",
    "colors = [\"#f9cdac\",\"#f2a49f\",\"#ec7c92\",\"#e65586\",\"#bc438b\",\"#933291\",\"#692398\",\"#551c7b\",\"#41155e\",\"#2d0f41\"]\n",
    "plt.barh(y_pos, height, color=colors)\n",
    " \n",
    "plt.xticks(color=\"#424242\")\n",
    "\n",
    "plt.yticks(y_pos, bars, color=\"#424242\")\n",
    "plt.xlabel(\"Number of outlets in US\")\n",
    "\n",
    "for i, v in enumerate(height):\n",
    "    ax.text(v+3, i, str(v), color='#424242')\n",
    "plt.title(\"Top 10 Restaurant chain in US (by number of outlets)\")\n",
    "\n",
    "\n",
    "plt.show()"
   ]
  },
  {
   "cell_type": "code",
   "execution_count": 24,
   "id": "73ba4edb",
   "metadata": {
    "execution": {
     "iopub.execute_input": "2023-01-25T16:13:21.555242Z",
     "iopub.status.busy": "2023-01-25T16:13:21.554569Z",
     "iopub.status.idle": "2023-01-25T16:13:21.574760Z",
     "shell.execute_reply": "2023-01-25T16:13:21.573781Z"
    },
    "papermill": {
     "duration": 0.032781,
     "end_time": "2023-01-25T16:13:21.576851",
     "exception": false,
     "start_time": "2023-01-25T16:13:21.544070",
     "status": "completed"
    },
    "tags": []
   },
   "outputs": [],
   "source": [
    "outlets = data[\"name\"].value_counts()"
   ]
  },
  {
   "cell_type": "code",
   "execution_count": 25,
   "id": "0b18621a",
   "metadata": {
    "execution": {
     "iopub.execute_input": "2023-01-25T16:13:21.597443Z",
     "iopub.status.busy": "2023-01-25T16:13:21.595684Z",
     "iopub.status.idle": "2023-01-25T16:13:21.602396Z",
     "shell.execute_reply": "2023-01-25T16:13:21.601452Z"
    },
    "papermill": {
     "duration": 0.018971,
     "end_time": "2023-01-25T16:13:21.604647",
     "exception": false,
     "start_time": "2023-01-25T16:13:21.585676",
     "status": "completed"
    },
    "tags": []
   },
   "outputs": [],
   "source": [
    "atleast_5_outlets = outlets[outlets > 4]"
   ]
  },
  {
   "cell_type": "code",
   "execution_count": 26,
   "id": "0754970e",
   "metadata": {
    "execution": {
     "iopub.execute_input": "2023-01-25T16:13:21.623890Z",
     "iopub.status.busy": "2023-01-25T16:13:21.623552Z",
     "iopub.status.idle": "2023-01-25T16:13:21.636912Z",
     "shell.execute_reply": "2023-01-25T16:13:21.635875Z"
    },
    "papermill": {
     "duration": 0.025944,
     "end_time": "2023-01-25T16:13:21.639493",
     "exception": false,
     "start_time": "2023-01-25T16:13:21.613549",
     "status": "completed"
    },
    "tags": []
   },
   "outputs": [],
   "source": [
    "top10_chains2 = data[data[\"name\"].isin(atleast_5_outlets.index)].groupby(\"name\").mean()[\"ratings\"].sort_values(ascending=False)[:10].sort_values(ascending=True)"
   ]
  },
  {
   "cell_type": "code",
   "execution_count": 27,
   "id": "0b1165f5",
   "metadata": {
    "execution": {
     "iopub.execute_input": "2023-01-25T16:13:21.659921Z",
     "iopub.status.busy": "2023-01-25T16:13:21.659599Z",
     "iopub.status.idle": "2023-01-25T16:13:21.931578Z",
     "shell.execute_reply": "2023-01-25T16:13:21.930608Z"
    },
    "papermill": {
     "duration": 0.284427,
     "end_time": "2023-01-25T16:13:21.933816",
     "exception": false,
     "start_time": "2023-01-25T16:13:21.649389",
     "status": "completed"
    },
    "tags": []
   },
   "outputs": [
    {
     "data": {
      "image/png": "[encoded data removed]",
      "text/plain": [
       "<Figure size 792x504 with 1 Axes>"
      ]
     },
     "metadata": {
      "needs_background": "light"
     },
     "output_type": "display_data"
    }
   ],
   "source": [
    "height = pd.Series(top10_chains2.values).map(lambda x : np.round(x, 2))\n",
    "bars = top10_chains2.index\n",
    "y_pos = np.arange(len(bars))\n",
    "\n",
    "fig = plt.figure(figsize=[11,7], frameon=False)\n",
    "ax = fig.gca()\n",
    "ax.spines[\"top\"].set_visible(\"#424242\")\n",
    "ax.spines[\"right\"].set_visible(False)\n",
    "ax.spines[\"left\"].set_color(\"#424242\")\n",
    "ax.spines[\"bottom\"].set_color(\"#424242\")\n",
    "\n",
    "#colors = [\"green\",\"blue\",\"magenta\",\"cyan\",\"gray\",\"yellow\",\"purple\",\"violet\",\"orange\",\"red\",\"maroon\"]\n",
    "#random.shuffle(colors)\n",
    "colors = ['#fded86', '#fce36b', '#f7c65d', '#f1a84f', '#ec8c41', '#e76f34', '#e25328', '#b04829', '#7e3e2b', '#4c3430']\n",
    "plt.barh(y_pos, height, color=colors)\n",
    "\n",
    "plt.xlim(3)\n",
    "plt.xticks(color=\"#424242\")\n",
    "plt.yticks(y_pos, bars, color=\"#424242\")\n",
    "plt.xlabel(\"Number of outlets in US\")\n",
    "\n",
    "for i, v in enumerate(height):\n",
    "    ax.text(v + 0.01, i, str(v), color='#424242')\n",
    "plt.title(\"Top 10 Restaurant chain in US (by average Rating)\")\n",
    "\n",
    "\n",
    "plt.show()"
   ]
  },
  {
   "cell_type": "code",
   "execution_count": 28,
   "id": "b64144ad",
   "metadata": {
    "execution": {
     "iopub.execute_input": "2023-01-25T16:13:21.953766Z",
     "iopub.status.busy": "2023-01-25T16:13:21.952988Z",
     "iopub.status.idle": "2023-01-25T16:13:22.168011Z",
     "shell.execute_reply": "2023-01-25T16:13:22.166436Z"
    },
    "papermill": {
     "duration": 0.229855,
     "end_time": "2023-01-25T16:13:22.172752",
     "exception": false,
     "start_time": "2023-01-25T16:13:21.942897",
     "status": "completed"
    },
    "tags": []
   },
   "outputs": [
    {
     "data": {
      "image/png": "[encoded data removed]",
      "text/plain": [
       "<Figure size 576x360 with 1 Axes>"
      ]
     },
     "metadata": {
      "needs_background": "light"
     },
     "output_type": "display_data"
    }
   ],
   "source": [
    "cat_count = data.groupby(\"category\").count()[\"id\"].sort_values(ascending=False)[:5]\n",
    "\n",
    "fig = plt.figure(figsize=[8,5], frameon=False)\n",
    "ax = fig.gca()\n",
    "ax.spines[\"top\"].set_visible(False)\n",
    "ax.spines[\"right\"].set_visible(False)\n",
    "ax.spines[\"left\"].set_color(\"#424242\")\n",
    "ax.spines[\"bottom\"].set_color(\"#424242\")\n",
    "\n",
    "#colors = [\"green\",\"blue\",\"magenta\",\"cyan\",\"gray\",\"yellow\",\"purple\",\"violet\",\"orange\",\"red\",\"maroon\"]\n",
    "#random.shuffle(colors)\n",
    "colors = [\"#2d0f41\",'#933291',\"#e65586\",\"#f2a49f\",\"#f9cdac\"]\n",
    "plt.bar(cat_count.index, cat_count.values, color=colors)\n",
    "\n",
    "plt.xticks(range(0, 6), color=\"#424242\")\n",
    "plt.yticks(range(0, 25000, 5000), color=\"#424242\")\n",
    "plt.xlabel(\"Top 5 Category types\")\n",
    "\n",
    "for i, v in enumerate(cat_count):\n",
    "    ax.text(i-0.2, v+500, str(v), color='#424242')\n",
    "plt.title(\"Number of restaurants (by Category type)\")\n",
    "\n",
    "\n",
    "plt.show()"
   ]
  },
  {
   "cell_type": "code",
   "execution_count": 29,
   "id": "c37547d0",
   "metadata": {
    "execution": {
     "iopub.execute_input": "2023-01-25T16:13:22.211211Z",
     "iopub.status.busy": "2023-01-25T16:13:22.210864Z",
     "iopub.status.idle": "2023-01-25T16:13:22.240592Z",
     "shell.execute_reply": "2023-01-25T16:13:22.239320Z"
    },
    "papermill": {
     "duration": 0.045168,
     "end_time": "2023-01-25T16:13:22.243579",
     "exception": false,
     "start_time": "2023-01-25T16:13:22.198411",
     "status": "completed"
    },
    "tags": []
   },
   "outputs": [
    {
     "data": {
      "text/plain": [
       "category\n",
       "Thai, Asian, Noodles, Family Friendly, Group Friendly, Alcohol                                                                 500.0\n",
       "Chinese, Asian, Asian Fusion, Group Friendly, Alcohol                                                                          500.0\n",
       "Pizza, Wings, Mediterranean, Halal, Sandwich, Black-owned, Chicken, Vegetarian Friendly, Healthy, Group Friendly               500.0\n",
       "Sushi, Asian, Allergy Friendly                                                                                                 500.0\n",
       "American, Chicken, Fried Chicken, Wings, Salads, Desserts, Family Friendly, Family Meals, Kids Friendly, Local Specialities    500.0\n",
       "Asian, Thai, Noodles, Group Friendly                                                                                           500.0\n",
       "Breakfast and Brunch, Salads, Sandwich, Healthy, Family Friendly, Group Friendly                                               500.0\n",
       "American, Noodles, Jewish, Soup, Healthy                                                                                       500.0\n",
       "Wings, South African, Chicken, Salads, Portuguese, Healthy, Family Friendly, Group Friendly, Alcohol                           500.0\n",
       "Asian Fusion, Asian, Korean, Alcohol, Group Friendly                                                                           500.0\n",
       "Name: ratings, dtype: float64"
      ]
     },
     "execution_count": 29,
     "metadata": {},
     "output_type": "execute_result"
    }
   ],
   "source": [
    "rating_by_cat = data.groupby(\"category\").mean()[\"ratings\"].sort_values(ascending=False)[:10]\n",
    "rating_by_cat"
   ]
  },
  {
   "cell_type": "code",
   "execution_count": 30,
   "id": "c7b052f1",
   "metadata": {
    "execution": {
     "iopub.execute_input": "2023-01-25T16:13:22.267142Z",
     "iopub.status.busy": "2023-01-25T16:13:22.266814Z",
     "iopub.status.idle": "2023-01-25T16:13:22.296553Z",
     "shell.execute_reply": "2023-01-25T16:13:22.295228Z"
    },
    "papermill": {
     "duration": 0.045609,
     "end_time": "2023-01-25T16:13:22.299858",
     "exception": false,
     "start_time": "2023-01-25T16:13:22.254249",
     "status": "completed"
    },
    "tags": []
   },
   "outputs": [
    {
     "data": {
      "text/plain": [
       "category\n",
       "Burgers, Japanese, Japanese BBQ, Steak, Pasta, Seafood                        300.0\n",
       "Mexican, American, Breakfast and Brunch                                       300.0\n",
       "Mediterranean, Kebab, Chicken                                                 300.0\n",
       "Thai, Vegetarian, Asian                                                       300.0\n",
       "Mediterranean, Moroccan, Sandwich                                             300.0\n",
       "Salads, Sandwich, Family Meals, Healthy, Latin American, Peruvian, Chicken    300.0\n",
       "Black-owned, Thai, Noodles, Rice &amp; Curry                                  299.0\n",
       "Japanese: Sushi, Family Friendly                                              299.0\n",
       "Chinese, Bakery, Desserts                                                     299.0\n",
       "Rolls, Seafood, Asian                                                         299.0\n",
       "Name: position, dtype: float64"
      ]
     },
     "execution_count": 30,
     "metadata": {},
     "output_type": "execute_result"
    }
   ],
   "source": [
    "data.groupby(\"category\").mean()[\"position\"].sort_values(ascending=False)[:10]"
   ]
  },
  {
   "cell_type": "code",
   "execution_count": 31,
   "id": "79a68396",
   "metadata": {
    "execution": {
     "iopub.execute_input": "2023-01-25T16:13:22.322907Z",
     "iopub.status.busy": "2023-01-25T16:13:22.321973Z",
     "iopub.status.idle": "2023-01-25T16:13:22.710232Z",
     "shell.execute_reply": "2023-01-25T16:13:22.709277Z"
    },
    "papermill": {
     "duration": 0.401716,
     "end_time": "2023-01-25T16:13:22.712600",
     "exception": false,
     "start_time": "2023-01-25T16:13:22.310884",
     "status": "completed"
    },
    "tags": []
   },
   "outputs": [
    {
     "data": {
      "image/png": "[encoded data removed]",
      "text/plain": [
       "<Figure size 432x288 with 1 Axes>"
      ]
     },
     "metadata": {
      "needs_background": "light"
     },
     "output_type": "display_data"
    }
   ],
   "source": [
    "sns.kdeplot(data['ratings'], shade=True)\n",
    "plt.title(\"Ratings distribution\")\n",
    "plt.show()\n"
   ]
  }
 ],
 "metadata": {
  "kernelspec": {
   "display_name": "Python 3",
   "language": "python",
   "name": "python3"
  },
  "language_info": {
   "codemirror_mode": {
    "name": "ipython",
    "version": 3
   },
   "file_extension": ".py",
   "mimetype": "text/x-python",
   "name": "python",
   "nbconvert_exporter": "python",
   "pygments_lexer": "ipython3",
   "version": "3.7.12"
  },
  "papermill": {
   "default_parameters": {},
   "duration": 25.946374,
   "end_time": "2023-01-25T16:13:23.442910",
   "environment_variables": {},
   "exception": null,
   "input_path": "__notebook__.ipynb",
   "output_path": "__notebook__.ipynb",
   "parameters": {},
   "start_time": "2023-01-25T16:12:57.496536",
   "version": "2.3.4"
  }
 },
 "nbformat": 4,
 "nbformat_minor": 5
}
